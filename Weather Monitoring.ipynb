{
 "cells": [
  {
   "cell_type": "code",
   "execution_count": 1,
   "id": "8c84567f",
   "metadata": {},
   "outputs": [],
   "source": [
    "import numpy as np\n",
    "import pandas as pd\n",
    "\n",
    "import tarfile\n",
    "import gzip\n",
    "import re\n",
    "import os\n",
    "import datetime as dt"
   ]
  },
  {
   "cell_type": "code",
   "execution_count": 2,
   "id": "81ffe305",
   "metadata": {},
   "outputs": [],
   "source": [
    "year_num = 20 # Number of past years to consider\n",
    "extremes_num = 10 # Number of hottest and coldest places to display"
   ]
  },
  {
   "cell_type": "code",
   "execution_count": 3,
   "id": "2cc00a34",
   "metadata": {},
   "outputs": [],
   "source": [
    "yearfiles = os.listdir(\"./gsod_all_years\")\n",
    "yearfiles.sort()\n",
    "yearfiles = yearfiles[-year_num:]\n",
    "years = [int(re.findall('\\d+',yearfile)[0]) for yearfile in yearfiles]"
   ]
  },
  {
   "cell_type": "code",
   "execution_count": 4,
   "id": "479b9a34",
   "metadata": {},
   "outputs": [],
   "source": [
    "station_loc = pd.read_csv('isd-history.csv')\n",
    "station_loc = station_loc.replace([0.0, -999.0, -999.9],np.nan)\n",
    "station_loc = station_loc[pd.notnull(station_loc['LAT']) & pd.notnull(station_loc['LON'])]\n",
    "station_loc = station_loc[[int(re.findall('^\\d{4}', str(end_year))[0])==max(years) for end_year in station_loc['END']]]\n",
    "station_loc = station_loc[[int(re.findall('^\\d{4}', str(beg_year))[0])<=min(years) for beg_year in station_loc['BEGIN']]]"
   ]
  },
  {
   "cell_type": "code",
   "execution_count": 5,
   "id": "e99ca7f7",
   "metadata": {},
   "outputs": [],
   "source": [
    "station_loc['LBL'] = station_loc[['STATION NAME','STATE','CTRY']].apply(lambda x: x.str.cat(sep=', '), axis=1)\n",
    "station_loc['ELEV_LBL'] = station_loc['ELEV(M)'].apply(lambda x: 'Elevation: '+str(x)+' m' if ~np.isnan(x) else np.nan)\n",
    "station_loc['LBL'] = station_loc[['LBL','ELEV_LBL']].apply(lambda x: x.str.cat(sep='<br>'), axis=1)\n",
    "station_loc = station_loc.drop(['STATION NAME','STATE','ELEV_LBL','ICAO','BEGIN','END'], axis=1)\n",
    "#station_loc = station_loc.sample(stat_num)"
   ]
  },
  {
   "cell_type": "code",
   "execution_count": null,
   "id": "984cd629",
   "metadata": {},
   "outputs": [],
   "source": [
    "df = pd.DataFrame([])\n",
    "df_day = pd.DataFrame([])\n",
    "\n",
    "def preprocess_station_file_content(content):\n",
    "    headers=content.pop(0)\n",
    "    headers=[headers[ind] for ind in [0,1,2,3,4,8,11,12]]\n",
    "    for d in range(len(content)):\n",
    "        content[d]=[content[d][ind] for ind in [0,1,2,3,5,13,17,18]]\n",
    "    content=pd.DataFrame(content, columns=headers)\n",
    "    content.rename(columns={'STN---': 'USAF'}, inplace=True)\n",
    "    content['MAX'] = content['MAX'].apply(lambda x: re.sub(\"\\*$\",\"\",x))\n",
    "    content['MIN'] = content['MIN'].apply(lambda x: re.sub(\"\\*$\",\"\",x))\n",
    "    content[['WBAN','TEMP','DEWP','WDSP','MAX','MIN']] = content[['WBAN','TEMP','DEWP','WDSP','MAX','MIN']].apply(pd.to_numeric)\n",
    "    content['YEARMODA']=pd.to_datetime(content['YEARMODA'], format='%Y%m%d', errors='ignore')\n",
    "    content['YEAR']=pd.DatetimeIndex(content['YEARMODA']).year\n",
    "    content['MONTH']=pd.DatetimeIndex(content['YEARMODA']).month\n",
    "    content['DAY']=pd.DatetimeIndex(content['YEARMODA']).day\n",
    "    return content"
   ]
  },
  {
   "cell_type": "code",
   "execution_count": null,
   "id": "961fcc4b",
   "metadata": {
    "scrolled": true
   },
   "outputs": [],
   "source": [
    "yearfile = yearfiles[-1]\n",
    "print(yearfile)\n",
    "i=0\n",
    "tar = tarfile.open(\"./gsod_all_years/\"+yearfile, \"r\")\n",
    "print(len(tar.getmembers()[1:]))\n",
    "#for member in np.random.choice(tar.getmembers()[1:], size=stat_num, replace=False):\n",
    "for member in tar.getmembers()[1:]:\n",
    "    name_parts = re.sub(\"\\.op\\.gz$\",\"\",re.sub(\"^\\./\",\"\",member.name)).split(\"-\")\n",
    "    usaf = name_parts[0]\n",
    "    wban = int(name_parts[1])\n",
    "    if station_loc[(station_loc['USAF']==usaf) & (station_loc['WBAN']==wban)].shape[0]!=0:\n",
    "        i=i+1\n",
    "        #if i%(stat_num//10) == 0: print(i)\n",
    "        f=tar.extractfile(member)\n",
    "        f=gzip.open(f, 'rb')\n",
    "        content=[re.sub(\" +\", \",\", line.decode(\"utf-8\")).split(\",\") for line in f.readlines()]\n",
    "        content=preprocess_station_file_content(content)\n",
    "        df_day = df_day.append(content[content['YEARMODA']==content['YEARMODA'].max()])\n",
    "        content = content.groupby(['USAF','WBAN','YEAR','MONTH']).agg('median').reset_index()\n",
    "        df = df.append(content)\n",
    "tar.close()"
   ]
  },
  {
   "cell_type": "code",
   "execution_count": null,
   "id": "3d2e43a4",
   "metadata": {},
   "outputs": [],
   "source": [
    "df"
   ]
  },
  {
   "cell_type": "code",
   "execution_count": null,
   "id": "84123525",
   "metadata": {},
   "outputs": [],
   "source": []
  },
  {
   "cell_type": "code",
   "execution_count": null,
   "id": "7addd8e2",
   "metadata": {},
   "outputs": [],
   "source": []
  },
  {
   "cell_type": "code",
   "execution_count": null,
   "id": "bddaa607",
   "metadata": {},
   "outputs": [],
   "source": []
  }
 ],
 "metadata": {
  "kernelspec": {
   "display_name": "Python 3",
   "language": "python",
   "name": "python3"
  },
  "language_info": {
   "codemirror_mode": {
    "name": "ipython",
    "version": 3
   },
   "file_extension": ".py",
   "mimetype": "text/x-python",
   "name": "python",
   "nbconvert_exporter": "python",
   "pygments_lexer": "ipython3",
   "version": "3.8.8"
  }
 },
 "nbformat": 4,
 "nbformat_minor": 5
}
